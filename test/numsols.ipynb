{
 "cells": [
  {
   "cell_type": "code",
   "execution_count": null,
   "metadata": {},
   "outputs": [],
   "source": [
    "%load_ext conjure\n"
   ]
  },
  {
   "cell_type": "code",
   "execution_count": null,
   "metadata": {},
   "outputs": [],
   "source": [
    "w = 7"
   ]
  },
  {
   "cell_type": "code",
   "execution_count": null,
   "metadata": {},
   "outputs": [],
   "source": [
    "%%conjure --number-of-solutions all --solver minion\n",
    "\n",
    "given w: int\n",
    "find x : int(0..9)\n",
    "such that\n",
    "  w = x /\\ (w != x)"
   ]
  },
  {
   "cell_type": "code",
   "execution_count": null,
   "metadata": {},
   "outputs": [],
   "source": [
    "\"x\" in locals()"
   ]
  },
  {
   "cell_type": "code",
   "execution_count": null,
   "metadata": {},
   "outputs": [],
   "source": [
    "%%conjure --number-of-solutions all --solver minion\n",
    "\n",
    "$ -O0 -S0 is to ensure solutions come out in lex order\n",
    "given w: int\n",
    "find x : int(0..9)\n",
    "such that\n",
    "  w != x"
   ]
  },
  {
   "cell_type": "code",
   "execution_count": null,
   "metadata": {},
   "outputs": [],
   "source": [
    "\"x\" in locals()"
   ]
  },
  {
   "cell_type": "code",
   "execution_count": null,
   "metadata": {},
   "outputs": [],
   "source": [
    "%%conjure --number-of-solutions all --solver minion\n",
    "given w: int\n",
    "find x : int(0..9)\n",
    "find y:  int(5..12)\n",
    "such that\n",
    "  x*y=w"
   ]
  },
  {
   "cell_type": "code",
   "execution_count": null,
   "metadata": {},
   "outputs": [],
   "source": [
    "print(\"x\" in locals())"
   ]
  }
 ],
 "metadata": {
  "kernelspec": {
   "display_name": "env",
   "language": "python",
   "name": "python3"
  },
  "language_info": {
   "codemirror_mode": {
    "name": "ipython",
    "version": 3
   },
   "file_extension": ".py",
   "mimetype": "text/x-python",
   "name": "python",
   "nbconvert_exporter": "python",
   "pygments_lexer": "ipython3",
   "version": "3.11.4"
  },
  "orig_nbformat": 4,
  "vscode": {
   "interpreter": {
    "hash": "815559390840ce9b0b7cd48dd8184ccd76ec01fca5bb757616f04d8a9e4f3706"
   }
  }
 },
 "nbformat": 4,
 "nbformat_minor": 2
}
